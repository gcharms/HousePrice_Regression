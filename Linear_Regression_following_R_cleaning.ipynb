{
  "nbformat": 4,
  "nbformat_minor": 0,
  "metadata": {
    "colab": {
      "name": "Linear_Regression_following_R_cleaning.ipynb",
      "provenance": [],
      "collapsed_sections": []
    },
    "kernelspec": {
      "name": "python3",
      "display_name": "Python 3"
    },
    "accelerator": "GPU"
  },
  "cells": [
    {
      "cell_type": "code",
      "metadata": {
        "id": "w1hDk9hDvOH7",
        "colab": {
          "base_uri": "https://localhost:8080/"
        },
        "outputId": "461d89cf-00de-43e5-c982-937a30e7558e"
      },
      "source": [
        "\n",
        "import pandas as pd\n",
        "import numpy as np\n",
        "\n",
        "from scipy import stats\n",
        "import statsmodels.api as sm\n",
        "\n",
        "from sklearn.model_selection import cross_val_score\n",
        "from sklearn.model_selection import train_test_split\n",
        "from sklearn.linear_model import LinearRegression\n",
        "from sklearn.metrics import classification_report, confusion_matrix\n",
        "from sklearn.metrics import accuracy_score #works\n",
        "import warnings\n",
        "warnings.filterwarnings(\"ignore\")\n",
        "\n",
        "from google.colab import drive\n",
        "drive.mount('/gdrive')\n",
        "#Change current working directory to gdrive\n",
        "%cd /gdrive\n",
        "\n"
      ],
      "execution_count": null,
      "outputs": [
        {
          "output_type": "stream",
          "text": [
            "Mounted at /gdrive\n",
            "/gdrive\n"
          ],
          "name": "stdout"
        }
      ]
    },
    {
      "cell_type": "code",
      "metadata": {
        "id": "BMwGQK7KAd7T",
        "colab": {
          "base_uri": "https://localhost:8080/"
        },
        "outputId": "fa31548c-1e61-4b4e-d125-753460ee3b93"
      },
      "source": [
        "# Upload original dataset and dataset cleaned by R as dataframes\n",
        "\n",
        "realestate = r'/gdrive/Python/HousePrice_Prediction/HousePrice_PreProcessing.csv'\n",
        "originaldata = pd.read_csv('/gdrive/Python/HousePrice_Prediction/data.csv')\n",
        "realestatedata = pd.read_csv(realestate) #creates a dataframe\n",
        "\n",
        "\n",
        "print(realestatedata.shape)\n",
        "print(originaldata.shape)"
      ],
      "execution_count": null,
      "outputs": [
        {
          "output_type": "stream",
          "text": [
            "(4600, 9)\n",
            "(4600, 18)\n"
          ],
          "name": "stdout"
        }
      ]
    },
    {
      "cell_type": "code",
      "metadata": {
        "id": "3nSvcsmt2Hzs"
      },
      "source": [
        "# Create dummy variables for zip code variable\r\n",
        "\r\n",
        "statezip = pd.get_dummies(realestatedata['statezip'])"
      ],
      "execution_count": null,
      "outputs": []
    },
    {
      "cell_type": "code",
      "metadata": {
        "id": "LQt8nSFP2WUJ"
      },
      "source": [
        "# Concatenate \"statezip\" dummy variable to DataFrame\r\n",
        "\r\n",
        "realestatedata = pd.concat([realestatedata, statezip], axis=1)  \r\n",
        "realestatedata.drop(['statezip'], inplace=True, axis=1)"
      ],
      "execution_count": null,
      "outputs": []
    },
    {
      "cell_type": "code",
      "metadata": {
        "id": "-lDzHmJeKfAO"
      },
      "source": [
        "# Scale target variable values to address outliers in house price\r\n",
        "\r\n",
        "realestatedata['price'] = realestatedata['price'].replace([originaldata['price'][np.abs(stats.zscore(originaldata['price'])) > 3]],np.median(realestatedata['price']))"
      ],
      "execution_count": null,
      "outputs": []
    },
    {
      "cell_type": "code",
      "metadata": {
        "colab": {
          "base_uri": "https://localhost:8080/"
        },
        "id": "wNGyO2MO3DtK",
        "outputId": "cd42f7a9-e9de-42fe-b016-c0e787d0853a"
      },
      "source": [
        "X = realestatedata.drop([\"price\"],axis = 1)\r\n",
        "y = realestatedata[\"price\"]\r\n",
        "\r\n",
        "regression = LinearRegression()\r\n",
        "regression.fit(X,y)\r\n",
        "regression.score(X, y)*100"
      ],
      "execution_count": null,
      "outputs": [
        {
          "output_type": "execute_result",
          "data": {
            "text/plain": [
              "68.25724355310344"
            ]
          },
          "metadata": {
            "tags": []
          },
          "execution_count": 19
        }
      ]
    },
    {
      "cell_type": "code",
      "metadata": {
        "colab": {
          "base_uri": "https://localhost:8080/"
        },
        "id": "xZU_Pnjp5l40",
        "outputId": "b09331fb-ba8f-41ff-92e0-5c44ae87fddb"
      },
      "source": [
        "regression.fit(X,y)"
      ],
      "execution_count": null,
      "outputs": [
        {
          "output_type": "execute_result",
          "data": {
            "text/plain": [
              "LinearRegression(copy_X=True, fit_intercept=True, n_jobs=None, normalize=False)"
            ]
          },
          "metadata": {
            "tags": []
          },
          "execution_count": 20
        }
      ]
    },
    {
      "cell_type": "code",
      "metadata": {
        "colab": {
          "base_uri": "https://localhost:8080/"
        },
        "id": "FQLP_OTJ5tjC",
        "outputId": "6a060e48-e71a-4491-cd91-dca08d17fdcb"
      },
      "source": [
        "#OLS Regression\r\n",
        "\r\n",
        "houseprice_regression = sm.OLS(y, X)\r\n",
        "results = houseprice_regression.fit()\r\n",
        "print(results.summary())"
      ],
      "execution_count": null,
      "outputs": [
        {
          "output_type": "stream",
          "text": [
            "                            OLS Regression Results                            \n",
            "==============================================================================\n",
            "Dep. Variable:                  price   R-squared:                       0.683\n",
            "Model:                            OLS   Adj. R-squared:                  0.677\n",
            "Method:                 Least Squares   F-statistic:                     119.9\n",
            "Date:                Thu, 25 Feb 2021   Prob (F-statistic):               0.00\n",
            "Time:                        04:29:34   Log-Likelihood:                -61891.\n",
            "No. Observations:                4600   AIC:                         1.239e+05\n",
            "Df Residuals:                    4518   BIC:                         1.245e+05\n",
            "Df Model:                          81                                         \n",
            "Covariance Type:            nonrobust                                         \n",
            "=================================================================================\n",
            "                    coef    std err          t      P>|t|      [0.025      0.975]\n",
            "---------------------------------------------------------------------------------\n",
            "bathrooms       1.26e+04   5606.308      2.247      0.025    1608.311    2.36e+04\n",
            "sqft_living     180.5446      5.090     35.469      0.000     170.565     190.524\n",
            "floors        -2.797e+04   6819.767     -4.102      0.000   -4.13e+04   -1.46e+04\n",
            "view           5.568e+04   3645.406     15.274      0.000    4.85e+04    6.28e+04\n",
            "sqft_basement   -84.4691      8.044    -10.501      0.000    -100.239     -68.699\n",
            "WA 98001      -3.234e+04   2.23e+04     -1.451      0.147   -7.61e+04    1.14e+04\n",
            "WA 98002      -3.048e+04   2.94e+04     -1.036      0.300   -8.82e+04    2.72e+04\n",
            "WA 98003      -3.952e+04    2.6e+04     -1.522      0.128   -9.04e+04    1.14e+04\n",
            "WA 98004       5.896e+05   2.25e+04     26.254      0.000    5.46e+05    6.34e+05\n",
            "WA 98005       3.542e+05   3.32e+04     10.682      0.000    2.89e+05    4.19e+05\n",
            "WA 98006       3.094e+05   1.92e+04     16.111      0.000    2.72e+05    3.47e+05\n",
            "WA 98007       2.865e+05   2.88e+04      9.953      0.000     2.3e+05    3.43e+05\n",
            "WA 98008       1.899e+05   2.56e+04      7.434      0.000     1.4e+05     2.4e+05\n",
            "WA 98010       9.135e+04   5.73e+04      1.594      0.111    -2.1e+04    2.04e+05\n",
            "WA 98011       1.046e+05   3.17e+04      3.305      0.001    4.25e+04    1.67e+05\n",
            "WA 98014       9.016e+04   3.75e+04      2.406      0.016    1.67e+04    1.64e+05\n",
            "WA 98019       4.385e+04    2.8e+04      1.565      0.118   -1.11e+04    9.88e+04\n",
            "WA 98022      -2.923e+04   3.31e+04     -0.884      0.377   -9.41e+04    3.56e+04\n",
            "WA 98023      -4.864e+04   1.95e+04     -2.498      0.013   -8.68e+04   -1.05e+04\n",
            "WA 98024       1.893e+05   5.23e+04      3.617      0.000    8.67e+04    2.92e+05\n",
            "WA 98027       1.692e+05   2.05e+04      8.267      0.000    1.29e+05    2.09e+05\n",
            "WA 98028       1.101e+05   2.28e+04      4.836      0.000    6.55e+04    1.55e+05\n",
            "WA 98029       2.298e+05   2.15e+04     10.694      0.000    1.88e+05    2.72e+05\n",
            "WA 98030      -3.736e+04    2.8e+04     -1.332      0.183   -9.23e+04    1.76e+04\n",
            "WA 98031      -1.577e+04   2.28e+04     -0.692      0.489   -6.04e+04    2.89e+04\n",
            "WA 98032      -5.673e+04    3.8e+04     -1.494      0.135   -1.31e+05    1.77e+04\n",
            "WA 98033       3.483e+05   2.08e+04     16.743      0.000    3.08e+05    3.89e+05\n",
            "WA 98034       1.534e+05   1.91e+04      8.014      0.000    1.16e+05    1.91e+05\n",
            "WA 98038      -1.241e+04   2.02e+04     -0.615      0.539    -5.2e+04    2.72e+04\n",
            "WA 98039       3.047e+05    5.3e+04      5.745      0.000    2.01e+05    4.09e+05\n",
            "WA 98040         4.4e+05   2.16e+04     20.380      0.000    3.98e+05    4.82e+05\n",
            "WA 98042      -6254.8507   1.92e+04     -0.326      0.745   -4.39e+04    3.14e+04\n",
            "WA 98045       5.307e+04   2.58e+04      2.059      0.040    2539.012    1.04e+05\n",
            "WA 98047      -3.672e+04   6.99e+04     -0.525      0.600   -1.74e+05       1e+05\n",
            "WA 98050       1.762e+05   1.21e+05      1.459      0.145   -6.06e+04    4.13e+05\n",
            "WA 98051       6.464e+04   6.52e+04      0.992      0.321   -6.31e+04    1.92e+05\n",
            "WA 98052       2.588e+05   1.75e+04     14.805      0.000    2.25e+05    2.93e+05\n",
            "WA 98053       2.219e+05   2.02e+04     10.992      0.000    1.82e+05    2.61e+05\n",
            "WA 98055       1.487e+04   3.33e+04      0.447      0.655   -5.03e+04    8.01e+04\n",
            "WA 98056       7.571e+04   2.07e+04      3.658      0.000    3.51e+04    1.16e+05\n",
            "WA 98057      -3.146e+04   4.62e+04     -0.681      0.496   -1.22e+05     5.9e+04\n",
            "WA 98058       4358.1515   1.95e+04      0.223      0.823   -3.39e+04    4.27e+04\n",
            "WA 98059       7.323e+04   1.94e+04      3.765      0.000    3.51e+04    1.11e+05\n",
            "WA 98065       7.564e+04   2.31e+04      3.272      0.001    3.03e+04    1.21e+05\n",
            "WA 98068        2.17e+05   1.71e+05      1.271      0.204   -1.18e+05    5.52e+05\n",
            "WA 98070       9.305e+04   3.28e+04      2.833      0.005    2.87e+04    1.57e+05\n",
            "WA 98072        1.63e+05   2.35e+04      6.927      0.000    1.17e+05    2.09e+05\n",
            "WA 98074        1.75e+05   2.03e+04      8.627      0.000    1.35e+05    2.15e+05\n",
            "WA 98075       2.254e+05   2.19e+04     10.273      0.000    1.82e+05    2.68e+05\n",
            "WA 98077       1.785e+05    2.6e+04      6.876      0.000    1.28e+05    2.29e+05\n",
            "WA 98092      -5.255e+04   2.11e+04     -2.490      0.013   -9.39e+04   -1.12e+04\n",
            "WA 98102       4.464e+05   3.74e+04     11.936      0.000    3.73e+05     5.2e+05\n",
            "WA 98103       3.105e+05   1.77e+04     17.530      0.000    2.76e+05    3.45e+05\n",
            "WA 98105       4.988e+05   2.62e+04     19.014      0.000    4.47e+05     5.5e+05\n",
            "WA 98106       7.859e+04   2.24e+04      3.507      0.000    3.47e+04    1.23e+05\n",
            "WA 98107       2.944e+05   2.42e+04     12.144      0.000    2.47e+05    3.42e+05\n",
            "WA 98108       1.149e+05   2.64e+04      4.351      0.000    6.31e+04    1.67e+05\n",
            "WA 98109       5.613e+05    3.3e+04     16.998      0.000    4.97e+05    6.26e+05\n",
            "WA 98112       5.497e+05   2.32e+04     23.709      0.000    5.04e+05    5.95e+05\n",
            "WA 98115       3.088e+05   1.74e+04     17.761      0.000    2.75e+05    3.43e+05\n",
            "WA 98116       3.039e+05    2.3e+04     13.218      0.000    2.59e+05    3.49e+05\n",
            "WA 98117       2.964e+05   1.72e+04     17.273      0.000    2.63e+05     3.3e+05\n",
            "WA 98118       1.383e+05   2.09e+04      6.606      0.000    9.73e+04    1.79e+05\n",
            "WA 98119       3.756e+05   2.65e+04     14.149      0.000    3.24e+05    4.28e+05\n",
            "WA 98122       3.132e+05   2.32e+04     13.515      0.000    2.68e+05    3.59e+05\n",
            "WA 98125       1.511e+05   2.01e+04      7.529      0.000    1.12e+05     1.9e+05\n",
            "WA 98126       1.664e+05   2.08e+04      7.999      0.000    1.26e+05    2.07e+05\n",
            "WA 98133       1.222e+05   1.95e+04      6.274      0.000     8.4e+04     1.6e+05\n",
            "WA 98136       2.438e+05   2.42e+04     10.058      0.000    1.96e+05    2.91e+05\n",
            "WA 98144       2.795e+05   2.14e+04     13.031      0.000    2.37e+05    3.22e+05\n",
            "WA 98146       8.136e+04   2.43e+04      3.350      0.001    3.37e+04    1.29e+05\n",
            "WA 98148       1.903e+04   4.33e+04      0.439      0.661   -6.59e+04    1.04e+05\n",
            "WA 98155       1.009e+05   1.97e+04      5.122      0.000    6.23e+04     1.4e+05\n",
            "WA 98166       9.646e+04   2.34e+04      4.117      0.000    5.05e+04    1.42e+05\n",
            "WA 98168       3.625e+04   2.19e+04      1.657      0.098   -6647.311    7.91e+04\n",
            "WA 98177       2.238e+05    2.5e+04      8.955      0.000    1.75e+05    2.73e+05\n",
            "WA 98178      -2880.7660   2.56e+04     -0.113      0.910    -5.3e+04    4.73e+04\n",
            "WA 98188      -2.377e+04   3.63e+04     -0.654      0.513    -9.5e+04    4.75e+04\n",
            "WA 98198      -3.212e+04   2.41e+04     -1.334      0.182   -7.94e+04    1.51e+04\n",
            "WA 98199       3.653e+05   2.29e+04     15.939      0.000     3.2e+05     4.1e+05\n",
            "WA 98288       1.368e+04   9.87e+04      0.139      0.890    -1.8e+05    2.07e+05\n",
            "WA 98354       6.434e+04   1.21e+05      0.534      0.594   -1.72e+05    3.01e+05\n",
            "==============================================================================\n",
            "Omnibus:                     1250.666   Durbin-Watson:                   1.894\n",
            "Prob(Omnibus):                  0.000   Jarque-Bera (JB):            62785.913\n",
            "Skew:                           0.487   Prob(JB):                         0.00\n",
            "Kurtosis:                      21.073   Cond. No.                     1.60e+05\n",
            "==============================================================================\n",
            "\n",
            "Warnings:\n",
            "[1] Standard Errors assume that the covariance matrix of the errors is correctly specified.\n",
            "[2] The condition number is large, 1.6e+05. This might indicate that there are\n",
            "strong multicollinearity or other numerical problems.\n"
          ],
          "name": "stdout"
        }
      ]
    },
    {
      "cell_type": "code",
      "metadata": {
        "id": "hP7WRfWDdzVw"
      },
      "source": [
        ""
      ],
      "execution_count": null,
      "outputs": []
    }
  ]
}